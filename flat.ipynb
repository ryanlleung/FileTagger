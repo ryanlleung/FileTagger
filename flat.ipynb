{
 "cells": [
  {
   "cell_type": "code",
   "execution_count": 1,
   "metadata": {},
   "outputs": [],
   "source": [
    "import os\n",
    "import shutil\n",
    "\n",
    "def flatten_folder(src_dir, dest_dir, delimiter='→'):\n",
    "    if not os.path.exists(src_dir):\n",
    "        raise FileNotFoundError(f\"Source directory '{src_dir}' does not exist.\")\n",
    "    os.makedirs(dest_dir, exist_ok=True)\n",
    "    for root, dirs, files in os.walk(src_dir):\n",
    "        for file in files:\n",
    "            if file == '': continue\n",
    "            src_path = os.path.join(root, file)\n",
    "            subdir_path = os.path.relpath(root, src_dir)\n",
    "            new_file_name = file if subdir_path == '.' else f\"{delimiter.join(filter(None, subdir_path.split(os.sep)))}{delimiter}{file}\"\n",
    "            dest_path = os.path.join(dest_dir, new_file_name)\n",
    "            shutil.copy2(src_path, dest_path)\n",
    "\n",
    "# Example usage\n",
    "src = 'S'\n",
    "dest = 'F'\n",
    "flatten_folder(src, dest, delimiter='→')\n"
   ]
  },
  {
   "cell_type": "code",
   "execution_count": null,
   "metadata": {},
   "outputs": [],
   "source": []
  },
  {
   "cell_type": "code",
   "execution_count": null,
   "metadata": {},
   "outputs": [],
   "source": []
  }
 ],
 "metadata": {
  "kernelspec": {
   "display_name": "base",
   "language": "python",
   "name": "python3"
  },
  "language_info": {
   "codemirror_mode": {
    "name": "ipython",
    "version": 3
   },
   "file_extension": ".py",
   "mimetype": "text/x-python",
   "name": "python",
   "nbconvert_exporter": "python",
   "pygments_lexer": "ipython3",
   "version": "3.9.13"
  },
  "orig_nbformat": 4
 },
 "nbformat": 4,
 "nbformat_minor": 2
}
